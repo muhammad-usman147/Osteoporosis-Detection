{
 "cells": [
  {
   "cell_type": "code",
   "execution_count": 1,
   "id": "d9b34c98",
   "metadata": {
    "_cell_guid": "b1076dfc-b9ad-4769-8c92-a6c4dae69d19",
    "_uuid": "8f2839f25d086af736a60e9eeb907d3b93b6e0e5",
    "execution": {
     "iopub.execute_input": "2022-10-04T14:27:09.339306Z",
     "iopub.status.busy": "2022-10-04T14:27:09.338103Z",
     "iopub.status.idle": "2022-10-04T14:27:09.403197Z",
     "shell.execute_reply": "2022-10-04T14:27:09.402182Z"
    },
    "papermill": {
     "duration": 0.076697,
     "end_time": "2022-10-04T14:27:09.407317",
     "exception": false,
     "start_time": "2022-10-04T14:27:09.330620",
     "status": "completed"
    },
    "tags": []
   },
   "outputs": [
    {
     "name": "stdout",
     "output_type": "stream",
     "text": [
      "/kaggle/input/osteoporosis-knee-xray-dataset/osteoporosis/osteoporosis/55.JPEG\n",
      "/kaggle/input/osteoporosis-knee-xray-dataset/osteoporosis/osteoporosis/130.JPEG\n",
      "/kaggle/input/osteoporosis-knee-xray-dataset/osteoporosis/osteoporosis/239.jpg\n",
      "/kaggle/input/osteoporosis-knee-xray-dataset/osteoporosis/osteoporosis/149.jpg\n",
      "/kaggle/input/osteoporosis-knee-xray-dataset/osteoporosis/osteoporosis/215.jpg\n",
      "/kaggle/input/osteoporosis-knee-xray-dataset/osteoporosis/osteoporosis/185.jpg\n",
      "/kaggle/input/osteoporosis-knee-xray-dataset/osteoporosis/osteoporosis/243.jpg\n",
      "/kaggle/input/osteoporosis-knee-xray-dataset/osteoporosis/osteoporosis/16.JPEG\n",
      "/kaggle/input/osteoporosis-knee-xray-dataset/osteoporosis/osteoporosis/153.jpg\n",
      "/kaggle/input/osteoporosis-knee-xray-dataset/osteoporosis/osteoporosis/232.png\n",
      "/kaggle/input/osteoporosis-knee-xray-dataset/osteoporosis/osteoporosis/189.jpg\n",
      "/kaggle/input/osteoporosis-knee-xray-dataset/osteoporosis/osteoporosis/143.jpg\n",
      "/kaggle/input/osteoporosis-knee-xray-dataset/osteoporosis/osteoporosis/124.JPEG\n",
      "/kaggle/input/osteoporosis-knee-xray-dataset/osteoporosis/osteoporosis/31.JPEG\n",
      "/kaggle/input/osteoporosis-knee-xray-dataset/osteoporosis/osteoporosis/151.jpg\n",
      "/kaggle/input/osteoporosis-knee-xray-dataset/osteoporosis/osteoporosis/261.png\n",
      "/kaggle/input/osteoporosis-knee-xray-dataset/osteoporosis/osteoporosis/67.JPEG\n",
      "/kaggle/input/osteoporosis-knee-xray-dataset/osteoporosis/osteoporosis/289.jpg\n",
      "/kaggle/input/osteoporosis-knee-xray-dataset/osteoporosis/osteoporosis/270.png\n",
      "/kaggle/input/osteoporosis-knee-xray-dataset/osteoporosis/osteoporosis/22.JPEG\n",
      "/kaggle/input/osteoporosis-knee-xray-dataset/osteoporosis/osteoporosis/114.png\n",
      "/kaggle/input/osteoporosis-knee-xray-dataset/osteoporosis/osteoporosis/79.JPEG\n",
      "/kaggle/input/osteoporosis-knee-xray-dataset/osteoporosis/osteoporosis/163.jpg\n",
      "/kaggle/input/osteoporosis-knee-xray-dataset/osteoporosis/osteoporosis/113.jpg\n",
      "/kaggle/input/osteoporosis-knee-xray-dataset/osteoporosis/osteoporosis/211.jpg\n",
      "/kaggle/input/osteoporosis-knee-xray-dataset/osteoporosis/osteoporosis/291.jpg\n",
      "/kaggle/input/osteoporosis-knee-xray-dataset/osteoporosis/osteoporosis/197.jpg\n",
      "/kaggle/input/osteoporosis-knee-xray-dataset/osteoporosis/osteoporosis/4.png\n",
      "/kaggle/input/osteoporosis-knee-xray-dataset/osteoporosis/osteoporosis/290.jpg\n",
      "/kaggle/input/osteoporosis-knee-xray-dataset/osteoporosis/osteoporosis/129.png\n",
      "/kaggle/input/osteoporosis-knee-xray-dataset/osteoporosis/osteoporosis/191.jpg\n",
      "/kaggle/input/osteoporosis-knee-xray-dataset/osteoporosis/osteoporosis/248.jpg\n",
      "/kaggle/input/osteoporosis-knee-xray-dataset/osteoporosis/osteoporosis/126.png\n",
      "/kaggle/input/osteoporosis-knee-xray-dataset/osteoporosis/osteoporosis/9.png\n",
      "/kaggle/input/osteoporosis-knee-xray-dataset/osteoporosis/osteoporosis/247.jpg\n",
      "/kaggle/input/osteoporosis-knee-xray-dataset/osteoporosis/osteoporosis/102.png\n",
      "/kaggle/input/osteoporosis-knee-xray-dataset/osteoporosis/osteoporosis/97.JPEG\n",
      "/kaggle/input/osteoporosis-knee-xray-dataset/osteoporosis/osteoporosis/254.png\n",
      "/kaggle/input/osteoporosis-knee-xray-dataset/osteoporosis/osteoporosis/221.jpg\n",
      "/kaggle/input/osteoporosis-knee-xray-dataset/osteoporosis/osteoporosis/167.jpg\n",
      "/kaggle/input/osteoporosis-knee-xray-dataset/osteoporosis/osteoporosis/227.jpg\n",
      "/kaggle/input/osteoporosis-knee-xray-dataset/osteoporosis/osteoporosis/45o.jpg\n",
      "/kaggle/input/osteoporosis-knee-xray-dataset/osteoporosis/osteoporosis/193.jpg\n",
      "/kaggle/input/osteoporosis-knee-xray-dataset/osteoporosis/osteoporosis/255.png\n",
      "/kaggle/input/osteoporosis-knee-xray-dataset/osteoporosis/osteoporosis/241.jpg\n",
      "/kaggle/input/osteoporosis-knee-xray-dataset/osteoporosis/osteoporosis/177.jpg\n",
      "/kaggle/input/osteoporosis-knee-xray-dataset/osteoporosis/osteoporosis/268.png\n",
      "/kaggle/input/osteoporosis-knee-xray-dataset/osteoporosis/osteoporosis/93.png\n",
      "/kaggle/input/osteoporosis-knee-xray-dataset/osteoporosis/osteoporosis/319.jpg\n",
      "/kaggle/input/osteoporosis-knee-xray-dataset/osteoporosis/osteoporosis/314.jpg\n",
      "/kaggle/input/osteoporosis-knee-xray-dataset/osteoporosis/osteoporosis/19.JPEG\n",
      "/kaggle/input/osteoporosis-knee-xray-dataset/osteoporosis/osteoporosis/235.jpg\n",
      "/kaggle/input/osteoporosis-knee-xray-dataset/osteoporosis/osteoporosis/322.jpg\n",
      "/kaggle/input/osteoporosis-knee-xray-dataset/osteoporosis/osteoporosis/302.jpg\n",
      "/kaggle/input/osteoporosis-knee-xray-dataset/osteoporosis/osteoporosis/179.jpg\n",
      "/kaggle/input/osteoporosis-knee-xray-dataset/osteoporosis/osteoporosis/108.png\n",
      "/kaggle/input/osteoporosis-knee-xray-dataset/osteoporosis/osteoporosis/317.jpg\n",
      "/kaggle/input/osteoporosis-knee-xray-dataset/osteoporosis/osteoporosis/106.JPEG\n",
      "/kaggle/input/osteoporosis-knee-xray-dataset/osteoporosis/osteoporosis/145.jpg\n",
      "/kaggle/input/osteoporosis-knee-xray-dataset/osteoporosis/osteoporosis/46.JPEG\n",
      "/kaggle/input/osteoporosis-knee-xray-dataset/osteoporosis/osteoporosis/90.png\n",
      "/kaggle/input/osteoporosis-knee-xray-dataset/osteoporosis/osteoporosis/262.png\n",
      "/kaggle/input/osteoporosis-knee-xray-dataset/osteoporosis/osteoporosis/246.jpg\n",
      "/kaggle/input/osteoporosis-knee-xray-dataset/osteoporosis/osteoporosis/20.png\n",
      "/kaggle/input/osteoporosis-knee-xray-dataset/osteoporosis/osteoporosis/173.jpg\n",
      "/kaggle/input/osteoporosis-knee-xray-dataset/osteoporosis/osteoporosis/52.JPEG\n",
      "/kaggle/input/osteoporosis-knee-xray-dataset/osteoporosis/osteoporosis/272.png\n",
      "/kaggle/input/osteoporosis-knee-xray-dataset/osteoporosis/osteoporosis/127.JPEG\n",
      "/kaggle/input/osteoporosis-knee-xray-dataset/osteoporosis/osteoporosis/171.jpg\n",
      "/kaggle/input/osteoporosis-knee-xray-dataset/osteoporosis/osteoporosis/251.png\n",
      "/kaggle/input/osteoporosis-knee-xray-dataset/osteoporosis/osteoporosis/250.png\n",
      "/kaggle/input/osteoporosis-knee-xray-dataset/osteoporosis/osteoporosis/37.JPEG\n",
      "/kaggle/input/osteoporosis-knee-xray-dataset/osteoporosis/osteoporosis/36.png\n",
      "/kaggle/input/osteoporosis-knee-xray-dataset/osteoporosis/osteoporosis/296.jpg\n",
      "/kaggle/input/osteoporosis-knee-xray-dataset/osteoporosis/osteoporosis/208.png\n",
      "/kaggle/input/osteoporosis-knee-xray-dataset/osteoporosis/osteoporosis/308.jpg\n",
      "/kaggle/input/osteoporosis-knee-xray-dataset/osteoporosis/osteoporosis/152.png\n",
      "/kaggle/input/osteoporosis-knee-xray-dataset/osteoporosis/osteoporosis/199.jpg\n",
      "/kaggle/input/osteoporosis-knee-xray-dataset/osteoporosis/osteoporosis/310.jpg\n",
      "/kaggle/input/osteoporosis-knee-xray-dataset/osteoporosis/osteoporosis/81.png\n",
      "/kaggle/input/osteoporosis-knee-xray-dataset/osteoporosis/osteoporosis/66.png\n",
      "/kaggle/input/osteoporosis-knee-xray-dataset/osteoporosis/osteoporosis/169.jpg\n",
      "/kaggle/input/osteoporosis-knee-xray-dataset/osteoporosis/osteoporosis/276.JPEG\n",
      "/kaggle/input/osteoporosis-knee-xray-dataset/osteoporosis/osteoporosis/121.JPEG\n",
      "/kaggle/input/osteoporosis-knee-xray-dataset/osteoporosis/osteoporosis/287.jpg\n",
      "/kaggle/input/osteoporosis-knee-xray-dataset/osteoporosis/osteoporosis/117.png\n",
      "/kaggle/input/osteoporosis-knee-xray-dataset/osteoporosis/osteoporosis/76.JPEG\n",
      "/kaggle/input/osteoporosis-knee-xray-dataset/osteoporosis/osteoporosis/263.png\n",
      "/kaggle/input/osteoporosis-knee-xray-dataset/osteoporosis/osteoporosis/61.JPEG\n",
      "/kaggle/input/osteoporosis-knee-xray-dataset/osteoporosis/osteoporosis/195.jpg\n",
      "/kaggle/input/osteoporosis-knee-xray-dataset/osteoporosis/osteoporosis/1.JPEG\n",
      "/kaggle/input/osteoporosis-knee-xray-dataset/osteoporosis/osteoporosis/207.jpg\n",
      "/kaggle/input/osteoporosis-knee-xray-dataset/osteoporosis/osteoporosis/209.jpg\n",
      "/kaggle/input/osteoporosis-knee-xray-dataset/osteoporosis/osteoporosis/18.png\n",
      "/kaggle/input/osteoporosis-knee-xray-dataset/osteoporosis/osteoporosis/63.png\n",
      "/kaggle/input/osteoporosis-knee-xray-dataset/osteoporosis/osteoporosis/323.jpg\n",
      "/kaggle/input/osteoporosis-knee-xray-dataset/osteoporosis/osteoporosis/82.JPEG\n",
      "/kaggle/input/osteoporosis-knee-xray-dataset/osteoporosis/osteoporosis/264.png\n",
      "/kaggle/input/osteoporosis-knee-xray-dataset/osteoporosis/osteoporosis/21.png\n",
      "/kaggle/input/osteoporosis-knee-xray-dataset/osteoporosis/osteoporosis/223.jpg\n",
      "/kaggle/input/osteoporosis-knee-xray-dataset/osteoporosis/osteoporosis/12.png\n",
      "/kaggle/input/osteoporosis-knee-xray-dataset/osteoporosis/osteoporosis/236.jpg\n",
      "/kaggle/input/osteoporosis-knee-xray-dataset/osteoporosis/osteoporosis/4o.JPEG\n",
      "/kaggle/input/osteoporosis-knee-xray-dataset/osteoporosis/osteoporosis/301.jpg\n",
      "/kaggle/input/osteoporosis-knee-xray-dataset/osteoporosis/osteoporosis/161.jpg\n",
      "/kaggle/input/osteoporosis-knee-xray-dataset/osteoporosis/osteoporosis/100.JPEG\n",
      "/kaggle/input/osteoporosis-knee-xray-dataset/osteoporosis/osteoporosis/318.jpg\n",
      "/kaggle/input/osteoporosis-knee-xray-dataset/osteoporosis/osteoporosis/321.jpg\n",
      "/kaggle/input/osteoporosis-knee-xray-dataset/osteoporosis/osteoporosis/13.JPEG\n",
      "/kaggle/input/osteoporosis-knee-xray-dataset/osteoporosis/osteoporosis/103.JPEG\n",
      "/kaggle/input/osteoporosis-knee-xray-dataset/osteoporosis/osteoporosis/244.jpg\n",
      "/kaggle/input/osteoporosis-knee-xray-dataset/osteoporosis/osteoporosis/183.jpg\n",
      "/kaggle/input/osteoporosis-knee-xray-dataset/osteoporosis/osteoporosis/105.png\n",
      "/kaggle/input/osteoporosis-knee-xray-dataset/osteoporosis/osteoporosis/219.jpg\n",
      "/kaggle/input/osteoporosis-knee-xray-dataset/osteoporosis/osteoporosis/240.jpg\n",
      "/kaggle/input/osteoporosis-knee-xray-dataset/osteoporosis/osteoporosis/288.jpg\n",
      "/kaggle/input/osteoporosis-knee-xray-dataset/osteoporosis/osteoporosis/49.JPEG\n",
      "/kaggle/input/osteoporosis-knee-xray-dataset/osteoporosis/osteoporosis/242.jpg\n",
      "/kaggle/input/osteoporosis-knee-xray-dataset/osteoporosis/osteoporosis/229.jpg\n",
      "/kaggle/input/osteoporosis-knee-xray-dataset/osteoporosis/osteoporosis/7.png\n",
      "/kaggle/input/osteoporosis-knee-xray-dataset/osteoporosis/osteoporosis/238.jpg\n",
      "/kaggle/input/osteoporosis-knee-xray-dataset/osteoporosis/osteoporosis/119.jpg\n",
      "/kaggle/input/osteoporosis-knee-xray-dataset/osteoporosis/osteoporosis/165.jpg\n",
      "/kaggle/input/osteoporosis-knee-xray-dataset/osteoporosis/osteoporosis/72.png\n",
      "/kaggle/input/osteoporosis-knee-xray-dataset/osteoporosis/osteoporosis/144.png\n",
      "/kaggle/input/osteoporosis-knee-xray-dataset/osteoporosis/osteoporosis/88.JPEG\n",
      "/kaggle/input/osteoporosis-knee-xray-dataset/osteoporosis/osteoporosis/224.png\n",
      "/kaggle/input/osteoporosis-knee-xray-dataset/osteoporosis/osteoporosis/122.jpg\n",
      "/kaggle/input/osteoporosis-knee-xray-dataset/osteoporosis/osteoporosis/120.png\n",
      "/kaggle/input/osteoporosis-knee-xray-dataset/osteoporosis/osteoporosis/305.jpg\n",
      "/kaggle/input/osteoporosis-knee-xray-dataset/osteoporosis/osteoporosis/181.jpg\n",
      "/kaggle/input/osteoporosis-knee-xray-dataset/osteoporosis/osteoporosis/34.JPEG\n",
      "/kaggle/input/osteoporosis-knee-xray-dataset/osteoporosis/osteoporosis/10.JPEG\n",
      "/kaggle/input/osteoporosis-knee-xray-dataset/osteoporosis/osteoporosis/3.png\n",
      "/kaggle/input/osteoporosis-knee-xray-dataset/osteoporosis/osteoporosis/45.png\n",
      "/kaggle/input/osteoporosis-knee-xray-dataset/osteoporosis/osteoporosis/309.jpg\n",
      "/kaggle/input/osteoporosis-knee-xray-dataset/osteoporosis/osteoporosis/24.png\n",
      "/kaggle/input/osteoporosis-knee-xray-dataset/osteoporosis/osteoporosis/312.jpg\n",
      "/kaggle/input/osteoporosis-knee-xray-dataset/osteoporosis/osteoporosis/297.jpg\n",
      "/kaggle/input/osteoporosis-knee-xray-dataset/osteoporosis/osteoporosis/274.png\n",
      "/kaggle/input/osteoporosis-knee-xray-dataset/osteoporosis/osteoporosis/29.JPEG\n",
      "/kaggle/input/osteoporosis-knee-xray-dataset/osteoporosis/osteoporosis/249.png\n",
      "/kaggle/input/osteoporosis-knee-xray-dataset/osteoporosis/osteoporosis/6.png\n",
      "/kaggle/input/osteoporosis-knee-xray-dataset/osteoporosis/osteoporosis/51.png\n",
      "/kaggle/input/osteoporosis-knee-xray-dataset/osteoporosis/osteoporosis/217.jpg\n",
      "/kaggle/input/osteoporosis-knee-xray-dataset/osteoporosis/osteoporosis/85.JPEG\n",
      "/kaggle/input/osteoporosis-knee-xray-dataset/osteoporosis/osteoporosis/94.JPEG\n",
      "/kaggle/input/osteoporosis-knee-xray-dataset/osteoporosis/osteoporosis/8.JPEG\n",
      "/kaggle/input/osteoporosis-knee-xray-dataset/osteoporosis/osteoporosis/231.jpg\n",
      "/kaggle/input/osteoporosis-knee-xray-dataset/osteoporosis/osteoporosis/201.jpg\n",
      "/kaggle/input/osteoporosis-knee-xray-dataset/osteoporosis/osteoporosis/84.png\n",
      "/kaggle/input/osteoporosis-knee-xray-dataset/osteoporosis/osteoporosis/15.png\n",
      "/kaggle/input/osteoporosis-knee-xray-dataset/osteoporosis/osteoporosis/252.png\n",
      "/kaggle/input/osteoporosis-knee-xray-dataset/osteoporosis/osteoporosis/109.JPEG\n",
      "/kaggle/input/osteoporosis-knee-xray-dataset/osteoporosis/osteoporosis/73.JPEG\n",
      "/kaggle/input/osteoporosis-knee-xray-dataset/osteoporosis/osteoporosis/175.jpg\n",
      "/kaggle/input/osteoporosis-knee-xray-dataset/osteoporosis/osteoporosis/60.png\n",
      "/kaggle/input/osteoporosis-knee-xray-dataset/osteoporosis/osteoporosis/99.png\n",
      "/kaggle/input/osteoporosis-knee-xray-dataset/osteoporosis/osteoporosis/228.png\n",
      "/kaggle/input/osteoporosis-knee-xray-dataset/osteoporosis/osteoporosis/316.jpg\n",
      "/kaggle/input/osteoporosis-knee-xray-dataset/osteoporosis/osteoporosis/27.png\n",
      "/kaggle/input/osteoporosis-knee-xray-dataset/osteoporosis/osteoporosis/26.JPEG\n",
      "/kaggle/input/osteoporosis-knee-xray-dataset/osteoporosis/osteoporosis/116.jpg\n",
      "/kaggle/input/osteoporosis-knee-xray-dataset/osteoporosis/osteoporosis/280.JPEG\n",
      "/kaggle/input/osteoporosis-knee-xray-dataset/osteoporosis/osteoporosis/273.png\n",
      "/kaggle/input/osteoporosis-knee-xray-dataset/osteoporosis/osteoporosis/78.png\n",
      "/kaggle/input/osteoporosis-knee-xray-dataset/osteoporosis/osteoporosis/40.JPEG\n",
      "/kaggle/input/osteoporosis-knee-xray-dataset/osteoporosis/osteoporosis/320.jpg\n",
      "/kaggle/input/osteoporosis-knee-xray-dataset/osteoporosis/osteoporosis/253.png\n",
      "/kaggle/input/osteoporosis-knee-xray-dataset/osteoporosis/osteoporosis/206.png\n",
      "/kaggle/input/osteoporosis-knee-xray-dataset/osteoporosis/osteoporosis/281.JPEG\n",
      "/kaggle/input/osteoporosis-knee-xray-dataset/osteoporosis/osteoporosis/245.jpg\n",
      "/kaggle/input/osteoporosis-knee-xray-dataset/osteoporosis/osteoporosis/58.JPEG\n",
      "/kaggle/input/osteoporosis-knee-xray-dataset/osteoporosis/osteoporosis/203.jpg\n",
      "/kaggle/input/osteoporosis-knee-xray-dataset/osteoporosis/osteoporosis/54.png\n",
      "/kaggle/input/osteoporosis-knee-xray-dataset/osteoporosis/osteoporosis/112.JPEG\n",
      "/kaggle/input/osteoporosis-knee-xray-dataset/osteoporosis/osteoporosis/111.png\n",
      "/kaggle/input/osteoporosis-knee-xray-dataset/osteoporosis/osteoporosis/298.jpg\n",
      "/kaggle/input/osteoporosis-knee-xray-dataset/osteoporosis/osteoporosis/306.jpg\n",
      "/kaggle/input/osteoporosis-knee-xray-dataset/osteoporosis/osteoporosis/304.jpg\n",
      "/kaggle/input/osteoporosis-knee-xray-dataset/osteoporosis/osteoporosis/315.jpg\n",
      "/kaggle/input/osteoporosis-knee-xray-dataset/osteoporosis/osteoporosis/257.png\n",
      "/kaggle/input/osteoporosis-knee-xray-dataset/osteoporosis/osteoporosis/213.jpg\n",
      "/kaggle/input/osteoporosis-knee-xray-dataset/osteoporosis/osteoporosis/42.png\n",
      "/kaggle/input/osteoporosis-knee-xray-dataset/osteoporosis/osteoporosis/226.png\n",
      "/kaggle/input/osteoporosis-knee-xray-dataset/osteoporosis/osteoporosis/147.jpg\n",
      "/kaggle/input/osteoporosis-knee-xray-dataset/normal/normal/70n.JPEG\n",
      "/kaggle/input/osteoporosis-knee-xray-dataset/normal/normal/45.jpg\n",
      "/kaggle/input/osteoporosis-knee-xray-dataset/normal/normal/56.jpg\n",
      "/kaggle/input/osteoporosis-knee-xray-dataset/normal/normal/271n.png\n",
      "/kaggle/input/osteoporosis-knee-xray-dataset/normal/normal/89.jpg\n",
      "/kaggle/input/osteoporosis-knee-xray-dataset/normal/normal/39n.png\n",
      "/kaggle/input/osteoporosis-knee-xray-dataset/normal/normal/20nn.jpg\n",
      "/kaggle/input/osteoporosis-knee-xray-dataset/normal/normal/71.jpg\n",
      "/kaggle/input/osteoporosis-knee-xray-dataset/normal/normal/303n.jpg\n",
      "/kaggle/input/osteoporosis-knee-xray-dataset/normal/normal/278n.JPEG\n",
      "/kaggle/input/osteoporosis-knee-xray-dataset/normal/normal/204n.png\n",
      "/kaggle/input/osteoporosis-knee-xray-dataset/normal/normal/131.jpg\n",
      "/kaggle/input/osteoporosis-knee-xray-dataset/normal/normal/166n.png\n",
      "/kaggle/input/osteoporosis-knee-xray-dataset/normal/normal/31.JPEG\n",
      "/kaggle/input/osteoporosis-knee-xray-dataset/normal/normal/11nn.png\n",
      "/kaggle/input/osteoporosis-knee-xray-dataset/normal/normal/25.JPEG\n",
      "/kaggle/input/osteoporosis-knee-xray-dataset/normal/normal/41n.jpg\n",
      "/kaggle/input/osteoporosis-knee-xray-dataset/normal/normal/283.jpg\n",
      "/kaggle/input/osteoporosis-knee-xray-dataset/normal/normal/27.JPEG\n",
      "/kaggle/input/osteoporosis-knee-xray-dataset/normal/normal/22.JPEG\n",
      "/kaggle/input/osteoporosis-knee-xray-dataset/normal/normal/24.JPEG\n",
      "/kaggle/input/osteoporosis-knee-xray-dataset/normal/normal/44n.jpg\n",
      "/kaggle/input/osteoporosis-knee-xray-dataset/normal/normal/115n.JPEG\n",
      "/kaggle/input/osteoporosis-knee-xray-dataset/normal/normal/14nn.jpg\n",
      "/kaggle/input/osteoporosis-knee-xray-dataset/normal/normal/295.jpg\n",
      "/kaggle/input/osteoporosis-knee-xray-dataset/normal/normal/38.jpg\n",
      "/kaggle/input/osteoporosis-knee-xray-dataset/normal/normal/162n.png\n",
      "/kaggle/input/osteoporosis-knee-xray-dataset/normal/normal/155n.jpg\n",
      "/kaggle/input/osteoporosis-knee-xray-dataset/normal/normal/42.jpg\n",
      "/kaggle/input/osteoporosis-knee-xray-dataset/normal/normal/54.jpg\n",
      "/kaggle/input/osteoporosis-knee-xray-dataset/normal/normal/29nn.jpg\n",
      "/kaggle/input/osteoporosis-knee-xray-dataset/normal/normal/25n.JPEG\n",
      "/kaggle/input/osteoporosis-knee-xray-dataset/normal/normal/n5.jpg\n",
      "/kaggle/input/osteoporosis-knee-xray-dataset/normal/normal/62.jpg\n",
      "/kaggle/input/osteoporosis-knee-xray-dataset/normal/normal/138.png\n",
      "/kaggle/input/osteoporosis-knee-xray-dataset/normal/normal/4.png\n",
      "/kaggle/input/osteoporosis-knee-xray-dataset/normal/normal/182n.png\n",
      "/kaggle/input/osteoporosis-knee-xray-dataset/normal/normal/35.jpg\n",
      "/kaggle/input/osteoporosis-knee-xray-dataset/normal/normal/56n.jpg\n",
      "/kaggle/input/osteoporosis-knee-xray-dataset/normal/normal/59.jpg\n",
      "/kaggle/input/osteoporosis-knee-xray-dataset/normal/normal/28.JPEG\n",
      "/kaggle/input/osteoporosis-knee-xray-dataset/normal/normal/164n.png\n",
      "/kaggle/input/osteoporosis-knee-xray-dataset/normal/normal/17nn.jpg\n",
      "/kaggle/input/osteoporosis-knee-xray-dataset/normal/normal/41.jpg\n",
      "/kaggle/input/osteoporosis-knee-xray-dataset/normal/normal/267n.png\n",
      "/kaggle/input/osteoporosis-knee-xray-dataset/normal/normal/33.png\n",
      "/kaggle/input/osteoporosis-knee-xray-dataset/normal/normal/187n.jpg\n",
      "/kaggle/input/osteoporosis-knee-xray-dataset/normal/normal/118n.JPEG\n",
      "/kaggle/input/osteoporosis-knee-xray-dataset/normal/normal/142n.png\n",
      "/kaggle/input/osteoporosis-knee-xray-dataset/normal/normal/9.png\n",
      "/kaggle/input/osteoporosis-knee-xray-dataset/normal/normal/57.jpg\n",
      "/kaggle/input/osteoporosis-knee-xray-dataset/normal/normal/260n.png\n",
      "/kaggle/input/osteoporosis-knee-xray-dataset/normal/normal/293n.jpg\n",
      "/kaggle/input/osteoporosis-knee-xray-dataset/normal/normal/101.jpg\n",
      "/kaggle/input/osteoporosis-knee-xray-dataset/normal/normal/237n.jpg\n",
      "/kaggle/input/osteoporosis-knee-xray-dataset/normal/normal/37.jpg\n",
      "/kaggle/input/osteoporosis-knee-xray-dataset/normal/normal/192n.png\n",
      "/kaggle/input/osteoporosis-knee-xray-dataset/normal/normal/64n.JPEG\n",
      "/kaggle/input/osteoporosis-knee-xray-dataset/normal/normal/150.png\n",
      "/kaggle/input/osteoporosis-knee-xray-dataset/normal/normal/46.jpg\n",
      "/kaggle/input/osteoporosis-knee-xray-dataset/normal/normal/137.jpg\n",
      "/kaggle/input/osteoporosis-knee-xray-dataset/normal/normal/44.jpg\n",
      "/kaggle/input/osteoporosis-knee-xray-dataset/normal/normal/200n.png\n",
      "/kaggle/input/osteoporosis-knee-xray-dataset/normal/normal/65.jpg\n",
      "/kaggle/input/osteoporosis-knee-xray-dataset/normal/normal/50.jpg\n",
      "/kaggle/input/osteoporosis-knee-xray-dataset/normal/normal/14.png\n",
      "/kaggle/input/osteoporosis-knee-xray-dataset/normal/normal/n19.jpg\n",
      "/kaggle/input/osteoporosis-knee-xray-dataset/normal/normal/311n.jpg\n",
      "/kaggle/input/osteoporosis-knee-xray-dataset/normal/normal/132.png\n",
      "/kaggle/input/osteoporosis-knee-xray-dataset/normal/normal/156.png\n",
      "/kaggle/input/osteoporosis-knee-xray-dataset/normal/normal/55.jpg\n",
      "/kaggle/input/osteoporosis-knee-xray-dataset/normal/normal/135.jpg\n",
      "/kaggle/input/osteoporosis-knee-xray-dataset/normal/normal/23.jpg\n",
      "/kaggle/input/osteoporosis-knee-xray-dataset/normal/normal/7.jpg\n",
      "/kaggle/input/osteoporosis-knee-xray-dataset/normal/normal/20.png\n",
      "/kaggle/input/osteoporosis-knee-xray-dataset/normal/normal/225.jpg\n",
      "/kaggle/input/osteoporosis-knee-xray-dataset/normal/normal/57n.png\n",
      "/kaggle/input/osteoporosis-knee-xray-dataset/normal/normal/77.jpg\n",
      "/kaggle/input/osteoporosis-knee-xray-dataset/normal/normal/80.jpg\n",
      "/kaggle/input/osteoporosis-knee-xray-dataset/normal/normal/174n.png\n",
      "/kaggle/input/osteoporosis-knee-xray-dataset/normal/normal/170n.png\n",
      "/kaggle/input/osteoporosis-knee-xray-dataset/normal/normal/10.png\n",
      "/kaggle/input/osteoporosis-knee-xray-dataset/normal/normal/53n.jpg\n",
      "/kaggle/input/osteoporosis-knee-xray-dataset/normal/normal/216n.png\n",
      "/kaggle/input/osteoporosis-knee-xray-dataset/normal/normal/40.jpg\n",
      "/kaggle/input/osteoporosis-knee-xray-dataset/normal/normal/265n.png\n",
      "/kaggle/input/osteoporosis-knee-xray-dataset/normal/normal/48.jpg\n",
      "/kaggle/input/osteoporosis-knee-xray-dataset/normal/normal/158n.png\n",
      "/kaggle/input/osteoporosis-knee-xray-dataset/normal/normal/160n.png\n",
      "/kaggle/input/osteoporosis-knee-xray-dataset/normal/normal/104.jpg\n",
      "/kaggle/input/osteoporosis-knee-xray-dataset/normal/normal/176n.png\n",
      "/kaggle/input/osteoporosis-knee-xray-dataset/normal/normal/230n.png\n",
      "/kaggle/input/osteoporosis-knee-xray-dataset/normal/normal/43.jpg\n",
      "/kaggle/input/osteoporosis-knee-xray-dataset/normal/normal/178n.png\n",
      "/kaggle/input/osteoporosis-knee-xray-dataset/normal/normal/74.jpg\n",
      "/kaggle/input/osteoporosis-knee-xray-dataset/normal/normal/313n.jpg\n",
      "/kaggle/input/osteoporosis-knee-xray-dataset/normal/normal/21.png\n",
      "/kaggle/input/osteoporosis-knee-xray-dataset/normal/normal/12.png\n",
      "/kaggle/input/osteoporosis-knee-xray-dataset/normal/normal/68.jpg\n",
      "/kaggle/input/osteoporosis-knee-xray-dataset/normal/normal/53.jpg\n",
      "/kaggle/input/osteoporosis-knee-xray-dataset/normal/normal/83.jpg\n",
      "/kaggle/input/osteoporosis-knee-xray-dataset/normal/normal/107.jpg\n",
      "/kaggle/input/osteoporosis-knee-xray-dataset/normal/normal/256n.png\n",
      "/kaggle/input/osteoporosis-knee-xray-dataset/normal/normal/222n.png\n",
      "/kaggle/input/osteoporosis-knee-xray-dataset/normal/normal/96.png\n",
      "/kaggle/input/osteoporosis-knee-xray-dataset/normal/normal/139.jpg\n",
      "/kaggle/input/osteoporosis-knee-xray-dataset/normal/normal/32.jpg\n",
      "/kaggle/input/osteoporosis-knee-xray-dataset/normal/normal/26.jpg\n",
      "/kaggle/input/osteoporosis-knee-xray-dataset/normal/normal/292n.jpg\n",
      "/kaggle/input/osteoporosis-knee-xray-dataset/normal/normal/23nn.JPEG\n",
      "/kaggle/input/osteoporosis-knee-xray-dataset/normal/normal/39.jpg\n",
      "/kaggle/input/osteoporosis-knee-xray-dataset/normal/normal/7nn.png\n",
      "/kaggle/input/osteoporosis-knee-xray-dataset/normal/normal/275n.JPEG\n",
      "/kaggle/input/osteoporosis-knee-xray-dataset/normal/normal/157n.jpg\n",
      "/kaggle/input/osteoporosis-knee-xray-dataset/normal/normal/69.png\n",
      "/kaggle/input/osteoporosis-knee-xray-dataset/normal/normal/154.png\n",
      "/kaggle/input/osteoporosis-knee-xray-dataset/normal/normal/86.jpg\n",
      "/kaggle/input/osteoporosis-knee-xray-dataset/normal/normal/194n.png\n",
      "/kaggle/input/osteoporosis-knee-xray-dataset/normal/normal/91n.JPEG\n",
      "/kaggle/input/osteoporosis-knee-xray-dataset/normal/normal/141.jpg\n",
      "/kaggle/input/osteoporosis-knee-xray-dataset/normal/normal/218n.png\n",
      "/kaggle/input/osteoporosis-knee-xray-dataset/normal/normal/92.jpg\n",
      "/kaggle/input/osteoporosis-knee-xray-dataset/normal/normal/233n.jpg\n",
      "/kaggle/input/osteoporosis-knee-xray-dataset/normal/normal/285n.jpg\n",
      "/kaggle/input/osteoporosis-knee-xray-dataset/normal/normal/11.jpg\n",
      "/kaggle/input/osteoporosis-knee-xray-dataset/normal/normal/186n.png\n",
      "/kaggle/input/osteoporosis-knee-xray-dataset/normal/normal/17.png\n",
      "/kaggle/input/osteoporosis-knee-xray-dataset/normal/normal/198n.png\n",
      "/kaggle/input/osteoporosis-knee-xray-dataset/normal/normal/266.png\n",
      "/kaggle/input/osteoporosis-knee-xray-dataset/normal/normal/50n.jpg\n",
      "/kaggle/input/osteoporosis-knee-xray-dataset/normal/normal/196.png\n",
      "/kaggle/input/osteoporosis-knee-xray-dataset/normal/normal/38n.jpg\n",
      "/kaggle/input/osteoporosis-knee-xray-dataset/normal/normal/140.png\n",
      "/kaggle/input/osteoporosis-knee-xray-dataset/normal/normal/146n.png\n",
      "/kaggle/input/osteoporosis-knee-xray-dataset/normal/normal/5.png\n",
      "/kaggle/input/osteoporosis-knee-xray-dataset/normal/normal/34.jpg\n",
      "/kaggle/input/osteoporosis-knee-xray-dataset/normal/normal/258n.png\n",
      "/kaggle/input/osteoporosis-knee-xray-dataset/normal/normal/3.png\n",
      "/kaggle/input/osteoporosis-knee-xray-dataset/normal/normal/259n.png\n",
      "/kaggle/input/osteoporosis-knee-xray-dataset/normal/normal/51.jpg\n",
      "/kaggle/input/osteoporosis-knee-xray-dataset/normal/normal/16.png\n",
      "/kaggle/input/osteoporosis-knee-xray-dataset/normal/normal/190n.png\n",
      "/kaggle/input/osteoporosis-knee-xray-dataset/normal/normal/52.jpg\n",
      "/kaggle/input/osteoporosis-knee-xray-dataset/normal/normal/172n.png\n",
      "/kaggle/input/osteoporosis-knee-xray-dataset/normal/normal/26nn.JPEG\n",
      "/kaggle/input/osteoporosis-knee-xray-dataset/normal/normal/205n.jpg\n",
      "/kaggle/input/osteoporosis-knee-xray-dataset/normal/normal/29.JPEG\n",
      "/kaggle/input/osteoporosis-knee-xray-dataset/normal/normal/125.jpg\n",
      "/kaggle/input/osteoporosis-knee-xray-dataset/normal/normal/128.jpg\n",
      "/kaggle/input/osteoporosis-knee-xray-dataset/normal/normal/180n.png\n",
      "/kaggle/input/osteoporosis-knee-xray-dataset/normal/normal/95.jpg\n",
      "/kaggle/input/osteoporosis-knee-xray-dataset/normal/normal/6.png\n",
      "/kaggle/input/osteoporosis-knee-xray-dataset/normal/normal/87.png\n",
      "/kaggle/input/osteoporosis-knee-xray-dataset/normal/normal/36.jpg\n",
      "/kaggle/input/osteoporosis-knee-xray-dataset/normal/normal/35n.jpg\n",
      "/kaggle/input/osteoporosis-knee-xray-dataset/normal/normal/202n.png\n",
      "/kaggle/input/osteoporosis-knee-xray-dataset/normal/normal/123.png\n",
      "/kaggle/input/osteoporosis-knee-xray-dataset/normal/normal/110.jpg\n",
      "/kaggle/input/osteoporosis-knee-xray-dataset/normal/normal/220n.png\n",
      "/kaggle/input/osteoporosis-knee-xray-dataset/normal/normal/184n.png\n",
      "/kaggle/input/osteoporosis-knee-xray-dataset/normal/normal/36n.jpg\n",
      "/kaggle/input/osteoporosis-knee-xray-dataset/normal/normal/188n.png\n",
      "/kaggle/input/osteoporosis-knee-xray-dataset/normal/normal/47.jpg\n",
      "/kaggle/input/osteoporosis-knee-xray-dataset/normal/normal/47n.jpg\n",
      "/kaggle/input/osteoporosis-knee-xray-dataset/normal/normal/210.png\n",
      "/kaggle/input/osteoporosis-knee-xray-dataset/normal/normal/300n.jpg\n",
      "/kaggle/input/osteoporosis-knee-xray-dataset/normal/normal/28n.JPEG\n",
      "/kaggle/input/osteoporosis-knee-xray-dataset/normal/normal/30.png\n",
      "/kaggle/input/osteoporosis-knee-xray-dataset/normal/normal/214n.png\n",
      "/kaggle/input/osteoporosis-knee-xray-dataset/normal/normal/286n.jpg\n",
      "/kaggle/input/osteoporosis-knee-xray-dataset/normal/normal/299n.jpg\n",
      "/kaggle/input/osteoporosis-knee-xray-dataset/normal/normal/168n.png\n",
      "/kaggle/input/osteoporosis-knee-xray-dataset/normal/normal/284n.jpg\n",
      "/kaggle/input/osteoporosis-knee-xray-dataset/normal/normal/212.png\n",
      "/kaggle/input/osteoporosis-knee-xray-dataset/normal/normal/13.png\n",
      "/kaggle/input/osteoporosis-knee-xray-dataset/normal/normal/315n.jpg\n",
      "/kaggle/input/osteoporosis-knee-xray-dataset/normal/normal/32nn.JPEG\n",
      "/kaggle/input/osteoporosis-knee-xray-dataset/normal/normal/49.jpg\n",
      "/kaggle/input/osteoporosis-knee-xray-dataset/normal/normal/294n.jpg\n",
      "/kaggle/input/osteoporosis-knee-xray-dataset/normal/normal/30nn.JPEG\n",
      "/kaggle/input/osteoporosis-knee-xray-dataset/normal/normal/2.jpg\n",
      "/kaggle/input/osteoporosis-knee-xray-dataset/normal/normal/133.jpg\n",
      "/kaggle/input/osteoporosis-knee-xray-dataset/normal/normal/98n.jpg\n",
      "/kaggle/input/osteoporosis-knee-xray-dataset/normal/normal/148n.png\n",
      "/kaggle/input/osteoporosis-knee-xray-dataset/normal/normal/234n.jpg\n",
      "/kaggle/input/osteoporosis-knee-xray-dataset/normal/normal/33nn.JPEG\n"
     ]
    }
   ],
   "source": [
    "# This Python 3 environment comes with many helpful analytics libraries installed\n",
    "# It is defined by the kaggle/python Docker image: https://github.com/kaggle/docker-python\n",
    "# For example, here's several helpful packages to load\n",
    "\n",
    "import numpy as np # linear algebra\n",
    "import pandas as pd # data processing, CSV file I/O (e.g. pd.read_csv)\n",
    "\n",
    "# Input data files are available in the read-only \"../input/\" directory\n",
    "# For example, running this (by clicking run or pressing Shift+Enter) will list all files under the input directory\n",
    "\n",
    "import os\n",
    "for dirname, _, filenames in os.walk('/kaggle/input'):\n",
    "    for filename in filenames:\n",
    "        print(os.path.join(dirname, filename))\n",
    "\n",
    "# You can write up to 20GB to the current directory (/kaggle/working/) that gets preserved as output when you create a version using \"Save & Run All\" \n",
    "# You can also write temporary files to /kaggle/temp/, but they won't be saved outside of the current session"
   ]
  },
  {
   "cell_type": "code",
   "execution_count": 2,
   "id": "33b82195",
   "metadata": {
    "execution": {
     "iopub.execute_input": "2022-10-04T14:27:09.421813Z",
     "iopub.status.busy": "2022-10-04T14:27:09.420544Z",
     "iopub.status.idle": "2022-10-04T14:27:10.963289Z",
     "shell.execute_reply": "2022-10-04T14:27:10.961414Z"
    },
    "papermill": {
     "duration": 1.552842,
     "end_time": "2022-10-04T14:27:10.966654",
     "exception": false,
     "start_time": "2022-10-04T14:27:09.413812",
     "status": "completed"
    },
    "tags": []
   },
   "outputs": [],
   "source": [
    "import pandas as pd\n",
    "import numpy as np\n",
    "import os\n",
    "import collections\n",
    "import cv2\n",
    "from sklearn.model_selection import train_test_split"
   ]
  },
  {
   "cell_type": "code",
   "execution_count": 3,
   "id": "f0c65a5a",
   "metadata": {
    "execution": {
     "iopub.execute_input": "2022-10-04T14:27:10.978717Z",
     "iopub.status.busy": "2022-10-04T14:27:10.978351Z",
     "iopub.status.idle": "2022-10-04T14:27:10.992688Z",
     "shell.execute_reply": "2022-10-04T14:27:10.991326Z"
    },
    "papermill": {
     "duration": 0.023522,
     "end_time": "2022-10-04T14:27:10.995645",
     "exception": false,
     "start_time": "2022-10-04T14:27:10.972123",
     "status": "completed"
    },
    "tags": []
   },
   "outputs": [
    {
     "data": {
      "text/plain": [
       "['normal']"
      ]
     },
     "execution_count": 3,
     "metadata": {},
     "output_type": "execute_result"
    }
   ],
   "source": [
    "os.listdir('/kaggle/input/osteoporosis-knee-xray-dataset/normal/')"
   ]
  },
  {
   "cell_type": "code",
   "execution_count": 4,
   "id": "decf50e8",
   "metadata": {
    "execution": {
     "iopub.execute_input": "2022-10-04T14:27:11.007577Z",
     "iopub.status.busy": "2022-10-04T14:27:11.007215Z",
     "iopub.status.idle": "2022-10-04T14:27:24.870494Z",
     "shell.execute_reply": "2022-10-04T14:27:24.868999Z"
    },
    "papermill": {
     "duration": 13.871794,
     "end_time": "2022-10-04T14:27:24.872677",
     "exception": false,
     "start_time": "2022-10-04T14:27:11.000883",
     "status": "completed"
    },
    "tags": []
   },
   "outputs": [
    {
     "name": "stdout",
     "output_type": "stream",
     "text": [
      "Processing : osteoporosis\n",
      "Processing : normal\n"
     ]
    }
   ],
   "source": [
    "data = collections.defaultdict(list)\n",
    "DIR = '/kaggle/input/osteoporosis-knee-xray-dataset/'\n",
    "for i in os.listdir(DIR):\n",
    "    dirs  = os.listdir(DIR + str(i)+'/'+str(i))\n",
    "    print(f\"Processing : {i}\")\n",
    "    for img in dirs:\n",
    "        temp_dir = DIR + str(i)+'/'+str(i)+'/'+img\n",
    "        data[i].append(cv2.resize(cv2.imread(temp_dir), (100,100)))\n",
    "        "
   ]
  },
  {
   "cell_type": "code",
   "execution_count": 5,
   "id": "715e9bda",
   "metadata": {
    "execution": {
     "iopub.execute_input": "2022-10-04T14:27:24.883749Z",
     "iopub.status.busy": "2022-10-04T14:27:24.883450Z",
     "iopub.status.idle": "2022-10-04T14:27:24.890448Z",
     "shell.execute_reply": "2022-10-04T14:27:24.889308Z"
    },
    "papermill": {
     "duration": 0.014454,
     "end_time": "2022-10-04T14:27:24.892180",
     "exception": false,
     "start_time": "2022-10-04T14:27:24.877726",
     "status": "completed"
    },
    "tags": []
   },
   "outputs": [
    {
     "data": {
      "text/plain": [
       "186"
      ]
     },
     "execution_count": 5,
     "metadata": {},
     "output_type": "execute_result"
    }
   ],
   "source": [
    "len(os.listdir('/kaggle/input/osteoporosis-knee-xray-dataset/osteoporosis/osteoporosis'))"
   ]
  },
  {
   "cell_type": "code",
   "execution_count": 6,
   "id": "0305a9f0",
   "metadata": {
    "execution": {
     "iopub.execute_input": "2022-10-04T14:27:24.905613Z",
     "iopub.status.busy": "2022-10-04T14:27:24.904534Z",
     "iopub.status.idle": "2022-10-04T14:27:24.912504Z",
     "shell.execute_reply": "2022-10-04T14:27:24.910802Z"
    },
    "papermill": {
     "duration": 0.017466,
     "end_time": "2022-10-04T14:27:24.915391",
     "exception": false,
     "start_time": "2022-10-04T14:27:24.897925",
     "status": "completed"
    },
    "tags": []
   },
   "outputs": [
    {
     "name": "stdout",
     "output_type": "stream",
     "text": [
      "Images in osteoporosis ==> 186\n",
      "Images in normal ==> 186\n"
     ]
    }
   ],
   "source": [
    "X = []\n",
    "Y = []\n",
    "count = 0\n",
    "for i in data.keys():\n",
    "    print(\"Images in {} ==> {}\".format(i,len(data[i])))\n",
    "    X += data[i]\n",
    "    for _ in range(len(data[i])):\n",
    "        Y.append(count)\n",
    "    count += 1"
   ]
  },
  {
   "cell_type": "code",
   "execution_count": 7,
   "id": "83f4a579",
   "metadata": {
    "execution": {
     "iopub.execute_input": "2022-10-04T14:27:24.927930Z",
     "iopub.status.busy": "2022-10-04T14:27:24.927574Z",
     "iopub.status.idle": "2022-10-04T14:27:32.678009Z",
     "shell.execute_reply": "2022-10-04T14:27:32.676662Z"
    },
    "papermill": {
     "duration": 7.759643,
     "end_time": "2022-10-04T14:27:32.680489",
     "exception": false,
     "start_time": "2022-10-04T14:27:24.920846",
     "status": "completed"
    },
    "tags": []
   },
   "outputs": [],
   "source": [
    "from tensorflow.keras.layers import Dense, Conv2D, BatchNormalization, MaxPooling2D, Flatten, Dropout\n",
    "from tensorflow.keras.models import Sequential\n",
    "from tensorflow.keras.utils import to_categorical"
   ]
  },
  {
   "cell_type": "code",
   "execution_count": 8,
   "id": "54db09c1",
   "metadata": {
    "execution": {
     "iopub.execute_input": "2022-10-04T14:27:32.693811Z",
     "iopub.status.busy": "2022-10-04T14:27:32.693187Z",
     "iopub.status.idle": "2022-10-04T14:27:32.703775Z",
     "shell.execute_reply": "2022-10-04T14:27:32.702204Z"
    },
    "papermill": {
     "duration": 0.020155,
     "end_time": "2022-10-04T14:27:32.706190",
     "exception": false,
     "start_time": "2022-10-04T14:27:32.686035",
     "status": "completed"
    },
    "tags": []
   },
   "outputs": [],
   "source": [
    "X = np.array(X)\n",
    "Y = np.array(Y)"
   ]
  },
  {
   "cell_type": "code",
   "execution_count": 9,
   "id": "f27c93e2",
   "metadata": {
    "execution": {
     "iopub.execute_input": "2022-10-04T14:27:32.718651Z",
     "iopub.status.busy": "2022-10-04T14:27:32.718326Z",
     "iopub.status.idle": "2022-10-04T14:27:32.725899Z",
     "shell.execute_reply": "2022-10-04T14:27:32.724409Z"
    },
    "papermill": {
     "duration": 0.017212,
     "end_time": "2022-10-04T14:27:32.728770",
     "exception": false,
     "start_time": "2022-10-04T14:27:32.711558",
     "status": "completed"
    },
    "tags": []
   },
   "outputs": [],
   "source": [
    "Y = to_categorical(Y)"
   ]
  },
  {
   "cell_type": "code",
   "execution_count": 10,
   "id": "01fbb799",
   "metadata": {
    "execution": {
     "iopub.execute_input": "2022-10-04T14:27:32.741393Z",
     "iopub.status.busy": "2022-10-04T14:27:32.740982Z",
     "iopub.status.idle": "2022-10-04T14:27:32.752485Z",
     "shell.execute_reply": "2022-10-04T14:27:32.750579Z"
    },
    "papermill": {
     "duration": 0.020964,
     "end_time": "2022-10-04T14:27:32.755040",
     "exception": false,
     "start_time": "2022-10-04T14:27:32.734076",
     "status": "completed"
    },
    "tags": []
   },
   "outputs": [],
   "source": [
    "xtrain,xtest, ytrain, ytest = train_test_split(X,Y,test_size=.10, random_state = 0) "
   ]
  },
  {
   "cell_type": "code",
   "execution_count": 11,
   "id": "c2de35ce",
   "metadata": {
    "execution": {
     "iopub.execute_input": "2022-10-04T14:27:32.766936Z",
     "iopub.status.busy": "2022-10-04T14:27:32.766618Z",
     "iopub.status.idle": "2022-10-04T14:27:32.989693Z",
     "shell.execute_reply": "2022-10-04T14:27:32.988021Z"
    },
    "papermill": {
     "duration": 0.232477,
     "end_time": "2022-10-04T14:27:32.992765",
     "exception": false,
     "start_time": "2022-10-04T14:27:32.760288",
     "status": "completed"
    },
    "tags": []
   },
   "outputs": [
    {
     "name": "stdout",
     "output_type": "stream",
     "text": [
      "Model: \"sequential\"\n",
      "_________________________________________________________________\n",
      "Layer (type)                 Output Shape              Param #   \n",
      "=================================================================\n",
      "conv2d (Conv2D)              (None, 98, 98, 64)        1792      \n",
      "_________________________________________________________________\n",
      "max_pooling2d (MaxPooling2D) (None, 32, 32, 64)        0         \n",
      "_________________________________________________________________\n",
      "batch_normalization (BatchNo (None, 32, 32, 64)        256       \n",
      "_________________________________________________________________\n",
      "conv2d_1 (Conv2D)            (None, 30, 30, 64)        36928     \n",
      "_________________________________________________________________\n",
      "max_pooling2d_1 (MaxPooling2 (None, 15, 15, 64)        0         \n",
      "_________________________________________________________________\n",
      "batch_normalization_1 (Batch (None, 15, 15, 64)        256       \n",
      "_________________________________________________________________\n",
      "conv2d_2 (Conv2D)            (None, 13, 13, 64)        36928     \n",
      "_________________________________________________________________\n",
      "max_pooling2d_2 (MaxPooling2 (None, 6, 6, 64)          0         \n",
      "_________________________________________________________________\n",
      "batch_normalization_2 (Batch (None, 6, 6, 64)          256       \n",
      "_________________________________________________________________\n",
      "flatten (Flatten)            (None, 2304)              0         \n",
      "_________________________________________________________________\n",
      "dense (Dense)                (None, 64)                147520    \n",
      "_________________________________________________________________\n",
      "dropout (Dropout)            (None, 64)                0         \n",
      "_________________________________________________________________\n",
      "dense_1 (Dense)              (None, 2)                 130       \n",
      "=================================================================\n",
      "Total params: 224,066\n",
      "Trainable params: 223,682\n",
      "Non-trainable params: 384\n",
      "_________________________________________________________________\n",
      "None\n"
     ]
    },
    {
     "name": "stderr",
     "output_type": "stream",
     "text": [
      "2022-10-04 14:27:32.812742: I tensorflow/core/common_runtime/process_util.cc:146] Creating new thread pool with default inter op setting: 2. Tune using inter_op_parallelism_threads for best performance.\n"
     ]
    }
   ],
   "source": [
    "model=Sequential()\n",
    "model.add(Conv2D(64,(3,3),activation='relu',input_shape=(100,100,3)))\n",
    "#pooling layer\n",
    "model.add(MaxPooling2D(3,3))\n",
    "model.add(BatchNormalization())\n",
    "model.add(Conv2D(64,(3,3),activation='relu'))\n",
    "#pooling layer\n",
    "model.add(MaxPooling2D(2,2))\n",
    "model.add(BatchNormalization())\n",
    "model.add(Conv2D(64,(3,3),activation='relu'))\n",
    "model.add(MaxPooling2D(2,2))\n",
    "model.add(BatchNormalization())\n",
    "model.add(Flatten())\n",
    "model.add(Dense(64, activation='relu'))\n",
    "\n",
    "model.add(Dropout(0.5))\n",
    "model.add(Dense(2, activation='sigmoid'))\n",
    "print(model.summary())\n"
   ]
  },
  {
   "cell_type": "code",
   "execution_count": 12,
   "id": "f542bdd4",
   "metadata": {
    "execution": {
     "iopub.execute_input": "2022-10-04T14:27:33.006648Z",
     "iopub.status.busy": "2022-10-04T14:27:33.006293Z",
     "iopub.status.idle": "2022-10-04T14:27:33.019750Z",
     "shell.execute_reply": "2022-10-04T14:27:33.018440Z"
    },
    "papermill": {
     "duration": 0.023166,
     "end_time": "2022-10-04T14:27:33.022373",
     "exception": false,
     "start_time": "2022-10-04T14:27:32.999207",
     "status": "completed"
    },
    "tags": []
   },
   "outputs": [],
   "source": [
    "model.compile(optimizer = 'adam',loss='binary_crossentropy',metrics=['accuracy'])"
   ]
  },
  {
   "cell_type": "code",
   "execution_count": 13,
   "id": "23f6586a",
   "metadata": {
    "execution": {
     "iopub.execute_input": "2022-10-04T14:27:33.034972Z",
     "iopub.status.busy": "2022-10-04T14:27:33.034650Z",
     "iopub.status.idle": "2022-10-04T14:28:38.964304Z",
     "shell.execute_reply": "2022-10-04T14:28:38.963553Z"
    },
    "papermill": {
     "duration": 65.938182,
     "end_time": "2022-10-04T14:28:38.966017",
     "exception": false,
     "start_time": "2022-10-04T14:27:33.027835",
     "status": "completed"
    },
    "tags": []
   },
   "outputs": [
    {
     "name": "stderr",
     "output_type": "stream",
     "text": [
      "2022-10-04 14:27:33.130712: I tensorflow/compiler/mlir/mlir_graph_optimization_pass.cc:185] None of the MLIR Optimization Passes are enabled (registered 2)\n"
     ]
    },
    {
     "name": "stdout",
     "output_type": "stream",
     "text": [
      "Epoch 1/30\n",
      "21/21 [==============================] - 3s 111ms/step - loss: 0.7955 - accuracy: 0.6108 - val_loss: 3.6241 - val_accuracy: 0.4474\n",
      "Epoch 2/30\n",
      "21/21 [==============================] - 2s 98ms/step - loss: 0.5763 - accuracy: 0.7365 - val_loss: 2.8670 - val_accuracy: 0.5263\n",
      "Epoch 3/30\n",
      "21/21 [==============================] - 2s 101ms/step - loss: 0.5224 - accuracy: 0.7395 - val_loss: 0.9987 - val_accuracy: 0.6316\n",
      "Epoch 4/30\n",
      "21/21 [==============================] - 2s 101ms/step - loss: 0.4765 - accuracy: 0.7635 - val_loss: 1.0632 - val_accuracy: 0.5263\n",
      "Epoch 5/30\n",
      "21/21 [==============================] - 2s 101ms/step - loss: 0.4565 - accuracy: 0.7904 - val_loss: 0.8677 - val_accuracy: 0.6316\n",
      "Epoch 6/30\n",
      "21/21 [==============================] - 2s 98ms/step - loss: 0.4586 - accuracy: 0.7665 - val_loss: 0.6239 - val_accuracy: 0.7632\n",
      "Epoch 7/30\n",
      "21/21 [==============================] - 2s 100ms/step - loss: 0.4141 - accuracy: 0.8144 - val_loss: 0.6394 - val_accuracy: 0.8158\n",
      "Epoch 8/30\n",
      "21/21 [==============================] - 2s 105ms/step - loss: 0.3996 - accuracy: 0.8234 - val_loss: 0.9996 - val_accuracy: 0.6579\n",
      "Epoch 9/30\n",
      "21/21 [==============================] - 2s 101ms/step - loss: 0.3568 - accuracy: 0.8383 - val_loss: 0.7709 - val_accuracy: 0.6579\n",
      "Epoch 10/30\n",
      "21/21 [==============================] - 2s 106ms/step - loss: 0.3184 - accuracy: 0.8683 - val_loss: 0.7163 - val_accuracy: 0.7368\n",
      "Epoch 11/30\n",
      "21/21 [==============================] - 2s 102ms/step - loss: 0.3174 - accuracy: 0.8533 - val_loss: 0.8977 - val_accuracy: 0.6579\n",
      "Epoch 12/30\n",
      "21/21 [==============================] - 2s 100ms/step - loss: 0.3318 - accuracy: 0.8263 - val_loss: 1.2307 - val_accuracy: 0.4737\n",
      "Epoch 13/30\n",
      "21/21 [==============================] - 2s 106ms/step - loss: 0.3126 - accuracy: 0.8743 - val_loss: 0.7028 - val_accuracy: 0.7632\n",
      "Epoch 14/30\n",
      "21/21 [==============================] - 3s 130ms/step - loss: 0.2977 - accuracy: 0.8743 - val_loss: 0.8692 - val_accuracy: 0.6842\n",
      "Epoch 15/30\n",
      "21/21 [==============================] - 2s 108ms/step - loss: 0.2598 - accuracy: 0.8743 - val_loss: 0.7513 - val_accuracy: 0.7368\n",
      "Epoch 16/30\n",
      "21/21 [==============================] - 2s 101ms/step - loss: 0.2823 - accuracy: 0.8832 - val_loss: 0.9412 - val_accuracy: 0.7105\n",
      "Epoch 17/30\n",
      "21/21 [==============================] - 2s 99ms/step - loss: 0.2864 - accuracy: 0.8683 - val_loss: 1.3614 - val_accuracy: 0.5000\n",
      "Epoch 18/30\n",
      "21/21 [==============================] - 2s 97ms/step - loss: 0.2715 - accuracy: 0.8862 - val_loss: 0.8335 - val_accuracy: 0.7632\n",
      "Epoch 19/30\n",
      "21/21 [==============================] - 2s 98ms/step - loss: 0.2427 - accuracy: 0.8862 - val_loss: 1.1448 - val_accuracy: 0.7368\n",
      "Epoch 20/30\n",
      "21/21 [==============================] - 2s 100ms/step - loss: 0.2400 - accuracy: 0.8862 - val_loss: 1.1151 - val_accuracy: 0.6579\n",
      "Epoch 21/30\n",
      "21/21 [==============================] - 2s 97ms/step - loss: 0.2317 - accuracy: 0.9042 - val_loss: 3.1172 - val_accuracy: 0.5526\n",
      "Epoch 22/30\n",
      "21/21 [==============================] - 2s 100ms/step - loss: 0.2527 - accuracy: 0.8623 - val_loss: 1.3792 - val_accuracy: 0.6053\n",
      "Epoch 23/30\n",
      "21/21 [==============================] - 2s 100ms/step - loss: 0.2003 - accuracy: 0.9102 - val_loss: 1.0818 - val_accuracy: 0.7632\n",
      "Epoch 24/30\n",
      "21/21 [==============================] - 2s 100ms/step - loss: 0.1958 - accuracy: 0.8922 - val_loss: 1.4558 - val_accuracy: 0.6579\n",
      "Epoch 25/30\n",
      "21/21 [==============================] - 2s 99ms/step - loss: 0.2244 - accuracy: 0.9192 - val_loss: 1.2135 - val_accuracy: 0.6579\n",
      "Epoch 26/30\n",
      "21/21 [==============================] - 2s 101ms/step - loss: 0.1999 - accuracy: 0.9162 - val_loss: 0.9454 - val_accuracy: 0.7368\n",
      "Epoch 27/30\n",
      "21/21 [==============================] - 2s 97ms/step - loss: 0.1695 - accuracy: 0.9341 - val_loss: 1.5575 - val_accuracy: 0.6842\n",
      "Epoch 28/30\n",
      "21/21 [==============================] - 2s 119ms/step - loss: 0.1598 - accuracy: 0.9251 - val_loss: 1.1876 - val_accuracy: 0.7105\n",
      "Epoch 29/30\n",
      "21/21 [==============================] - 2s 100ms/step - loss: 0.2011 - accuracy: 0.9281 - val_loss: 1.2778 - val_accuracy: 0.7368\n",
      "Epoch 30/30\n",
      "21/21 [==============================] - 2s 101ms/step - loss: 0.1842 - accuracy: 0.9102 - val_loss: 1.2291 - val_accuracy: 0.6579\n"
     ]
    },
    {
     "data": {
      "text/plain": [
       "<keras.callbacks.History at 0x7fb836c83a90>"
      ]
     },
     "execution_count": 13,
     "metadata": {},
     "output_type": "execute_result"
    }
   ],
   "source": [
    "model.fit(xtrain,ytrain,epochs=30,batch_size=16,validation_data = (xtest,ytest))"
   ]
  },
  {
   "cell_type": "code",
   "execution_count": 14,
   "id": "2cbe0855",
   "metadata": {
    "execution": {
     "iopub.execute_input": "2022-10-04T14:28:39.051773Z",
     "iopub.status.busy": "2022-10-04T14:28:39.051004Z",
     "iopub.status.idle": "2022-10-04T14:29:43.503817Z",
     "shell.execute_reply": "2022-10-04T14:29:43.502496Z"
    },
    "papermill": {
     "duration": 64.497507,
     "end_time": "2022-10-04T14:29:43.505811",
     "exception": false,
     "start_time": "2022-10-04T14:28:39.008304",
     "status": "completed"
    },
    "tags": []
   },
   "outputs": [
    {
     "name": "stdout",
     "output_type": "stream",
     "text": [
      "Epoch 1/30\n",
      "21/21 [==============================] - 2s 103ms/step - loss: 0.1696 - accuracy: 0.9371 - val_loss: 1.5431 - val_accuracy: 0.7105\n",
      "Epoch 2/30\n",
      "21/21 [==============================] - 2s 101ms/step - loss: 0.1722 - accuracy: 0.9311 - val_loss: 1.4692 - val_accuracy: 0.6842\n",
      "Epoch 3/30\n",
      "21/21 [==============================] - 2s 97ms/step - loss: 0.1302 - accuracy: 0.9251 - val_loss: 1.4793 - val_accuracy: 0.6053\n",
      "Epoch 4/30\n",
      "21/21 [==============================] - 2s 98ms/step - loss: 0.1135 - accuracy: 0.9521 - val_loss: 1.4476 - val_accuracy: 0.7105\n",
      "Epoch 5/30\n",
      "21/21 [==============================] - 2s 102ms/step - loss: 0.1364 - accuracy: 0.9491 - val_loss: 1.6211 - val_accuracy: 0.6579\n",
      "Epoch 6/30\n",
      "21/21 [==============================] - 2s 102ms/step - loss: 0.1201 - accuracy: 0.9491 - val_loss: 1.8150 - val_accuracy: 0.6053\n",
      "Epoch 7/30\n",
      "21/21 [==============================] - 2s 100ms/step - loss: 0.1587 - accuracy: 0.9251 - val_loss: 1.8433 - val_accuracy: 0.6842\n",
      "Epoch 8/30\n",
      "21/21 [==============================] - 2s 100ms/step - loss: 0.1297 - accuracy: 0.9431 - val_loss: 1.7431 - val_accuracy: 0.6842\n",
      "Epoch 9/30\n",
      "21/21 [==============================] - 2s 99ms/step - loss: 0.1063 - accuracy: 0.9551 - val_loss: 2.1093 - val_accuracy: 0.6579\n",
      "Epoch 10/30\n",
      "21/21 [==============================] - 2s 104ms/step - loss: 0.1056 - accuracy: 0.9581 - val_loss: 1.7242 - val_accuracy: 0.7105\n",
      "Epoch 11/30\n",
      "21/21 [==============================] - 2s 103ms/step - loss: 0.1436 - accuracy: 0.9341 - val_loss: 1.6246 - val_accuracy: 0.5526\n",
      "Epoch 12/30\n",
      "21/21 [==============================] - 2s 100ms/step - loss: 0.1461 - accuracy: 0.9371 - val_loss: 2.6713 - val_accuracy: 0.5789\n",
      "Epoch 13/30\n",
      "21/21 [==============================] - 3s 136ms/step - loss: 0.1167 - accuracy: 0.9491 - val_loss: 1.3935 - val_accuracy: 0.7105\n",
      "Epoch 14/30\n",
      "21/21 [==============================] - 2s 106ms/step - loss: 0.1054 - accuracy: 0.9551 - val_loss: 1.3937 - val_accuracy: 0.6842\n",
      "Epoch 15/30\n",
      "21/21 [==============================] - 2s 98ms/step - loss: 0.0996 - accuracy: 0.9491 - val_loss: 2.1055 - val_accuracy: 0.6842\n",
      "Epoch 16/30\n",
      "21/21 [==============================] - 2s 101ms/step - loss: 0.0929 - accuracy: 0.9581 - val_loss: 1.9529 - val_accuracy: 0.7368\n",
      "Epoch 17/30\n",
      "21/21 [==============================] - 2s 100ms/step - loss: 0.0802 - accuracy: 0.9581 - val_loss: 1.5728 - val_accuracy: 0.7368\n",
      "Epoch 18/30\n",
      "21/21 [==============================] - 2s 101ms/step - loss: 0.0714 - accuracy: 0.9731 - val_loss: 1.5451 - val_accuracy: 0.7105\n",
      "Epoch 19/30\n",
      "21/21 [==============================] - 2s 102ms/step - loss: 0.0677 - accuracy: 0.9611 - val_loss: 1.6884 - val_accuracy: 0.6579\n",
      "Epoch 20/30\n",
      "21/21 [==============================] - 2s 108ms/step - loss: 0.0555 - accuracy: 0.9701 - val_loss: 1.6649 - val_accuracy: 0.7368\n",
      "Epoch 21/30\n",
      "21/21 [==============================] - 2s 102ms/step - loss: 0.0524 - accuracy: 0.9790 - val_loss: 2.0538 - val_accuracy: 0.7105\n",
      "Epoch 22/30\n",
      "21/21 [==============================] - 2s 96ms/step - loss: 0.0579 - accuracy: 0.9731 - val_loss: 1.9845 - val_accuracy: 0.7105\n",
      "Epoch 23/30\n",
      "21/21 [==============================] - 2s 98ms/step - loss: 0.0543 - accuracy: 0.9641 - val_loss: 1.5550 - val_accuracy: 0.7632\n",
      "Epoch 24/30\n",
      "21/21 [==============================] - 2s 98ms/step - loss: 0.0575 - accuracy: 0.9701 - val_loss: 2.0249 - val_accuracy: 0.7105\n",
      "Epoch 25/30\n",
      "21/21 [==============================] - 2s 97ms/step - loss: 0.0593 - accuracy: 0.9701 - val_loss: 1.8315 - val_accuracy: 0.7105\n",
      "Epoch 26/30\n",
      "21/21 [==============================] - 2s 98ms/step - loss: 0.0753 - accuracy: 0.9581 - val_loss: 2.0101 - val_accuracy: 0.7368\n",
      "Epoch 27/30\n",
      "21/21 [==============================] - 2s 120ms/step - loss: 0.0743 - accuracy: 0.9731 - val_loss: 2.0876 - val_accuracy: 0.7368\n",
      "Epoch 28/30\n",
      "21/21 [==============================] - 2s 101ms/step - loss: 0.0623 - accuracy: 0.9701 - val_loss: 2.4284 - val_accuracy: 0.6316\n",
      "Epoch 29/30\n",
      "21/21 [==============================] - 2s 99ms/step - loss: 0.0568 - accuracy: 0.9701 - val_loss: 2.3930 - val_accuracy: 0.6316\n",
      "Epoch 30/30\n",
      "21/21 [==============================] - 2s 96ms/step - loss: 0.0781 - accuracy: 0.9461 - val_loss: 2.3066 - val_accuracy: 0.6842\n"
     ]
    },
    {
     "data": {
      "text/plain": [
       "<keras.callbacks.History at 0x7fb7e4672350>"
      ]
     },
     "execution_count": 14,
     "metadata": {},
     "output_type": "execute_result"
    }
   ],
   "source": [
    "model.fit(xtrain,ytrain,epochs=30,batch_size=16,validation_data = (xtest,ytest))"
   ]
  },
  {
   "cell_type": "code",
   "execution_count": 15,
   "id": "bd9143e7",
   "metadata": {
    "execution": {
     "iopub.execute_input": "2022-10-04T14:29:43.667220Z",
     "iopub.status.busy": "2022-10-04T14:29:43.666577Z",
     "iopub.status.idle": "2022-10-04T14:30:05.297954Z",
     "shell.execute_reply": "2022-10-04T14:30:05.296406Z"
    },
    "papermill": {
     "duration": 21.713427,
     "end_time": "2022-10-04T14:30:05.300422",
     "exception": false,
     "start_time": "2022-10-04T14:29:43.586995",
     "status": "completed"
    },
    "tags": []
   },
   "outputs": [
    {
     "name": "stdout",
     "output_type": "stream",
     "text": [
      "Epoch 1/10\n",
      "21/21 [==============================] - 2s 100ms/step - loss: 0.0734 - accuracy: 0.9731 - val_loss: 1.8397 - val_accuracy: 0.6579\n",
      "Epoch 2/10\n",
      "21/21 [==============================] - 2s 98ms/step - loss: 0.0630 - accuracy: 0.9671 - val_loss: 2.0392 - val_accuracy: 0.7105\n",
      "Epoch 3/10\n",
      "21/21 [==============================] - 2s 104ms/step - loss: 0.0563 - accuracy: 0.9731 - val_loss: 2.5451 - val_accuracy: 0.7105\n",
      "Epoch 4/10\n",
      "21/21 [==============================] - 2s 101ms/step - loss: 0.0502 - accuracy: 0.9731 - val_loss: 2.4494 - val_accuracy: 0.7368\n",
      "Epoch 5/10\n",
      "21/21 [==============================] - 2s 104ms/step - loss: 0.0839 - accuracy: 0.9641 - val_loss: 2.5793 - val_accuracy: 0.7105\n",
      "Epoch 6/10\n",
      "21/21 [==============================] - 2s 100ms/step - loss: 0.0747 - accuracy: 0.9581 - val_loss: 2.3088 - val_accuracy: 0.7105\n",
      "Epoch 7/10\n",
      "21/21 [==============================] - 2s 96ms/step - loss: 0.0469 - accuracy: 0.9671 - val_loss: 2.3773 - val_accuracy: 0.7105\n",
      "Epoch 8/10\n",
      "21/21 [==============================] - 2s 105ms/step - loss: 0.0702 - accuracy: 0.9731 - val_loss: 2.3087 - val_accuracy: 0.7105\n",
      "Epoch 9/10\n",
      "21/21 [==============================] - 2s 114ms/step - loss: 0.0797 - accuracy: 0.9611 - val_loss: 2.0574 - val_accuracy: 0.6842\n",
      "Epoch 10/10\n",
      "21/21 [==============================] - 2s 106ms/step - loss: 0.0558 - accuracy: 0.9641 - val_loss: 2.2857 - val_accuracy: 0.6842\n"
     ]
    },
    {
     "data": {
      "text/plain": [
       "<keras.callbacks.History at 0x7fb82d79ad50>"
      ]
     },
     "execution_count": 15,
     "metadata": {},
     "output_type": "execute_result"
    }
   ],
   "source": [
    "model.fit(xtrain,ytrain,epochs=10,batch_size=16,validation_data = (xtest,ytest))"
   ]
  },
  {
   "cell_type": "code",
   "execution_count": 16,
   "id": "3697617b",
   "metadata": {
    "execution": {
     "iopub.execute_input": "2022-10-04T14:30:05.499911Z",
     "iopub.status.busy": "2022-10-04T14:30:05.497913Z",
     "iopub.status.idle": "2022-10-04T14:30:05.551286Z",
     "shell.execute_reply": "2022-10-04T14:30:05.549900Z"
    },
    "papermill": {
     "duration": 0.154677,
     "end_time": "2022-10-04T14:30:05.553790",
     "exception": false,
     "start_time": "2022-10-04T14:30:05.399113",
     "status": "completed"
    },
    "tags": []
   },
   "outputs": [],
   "source": [
    "model.save(\"/kaggle/working/Osteoporosis_73.h5\")"
   ]
  },
  {
   "cell_type": "code",
   "execution_count": 17,
   "id": "6df25734",
   "metadata": {
    "execution": {
     "iopub.execute_input": "2022-10-04T14:30:05.748043Z",
     "iopub.status.busy": "2022-10-04T14:30:05.747446Z",
     "iopub.status.idle": "2022-10-04T14:30:05.752051Z",
     "shell.execute_reply": "2022-10-04T14:30:05.750655Z"
    },
    "papermill": {
     "duration": 0.10333,
     "end_time": "2022-10-04T14:30:05.754067",
     "exception": false,
     "start_time": "2022-10-04T14:30:05.650737",
     "status": "completed"
    },
    "tags": []
   },
   "outputs": [],
   "source": [
    "from sklearn.metrics import classification_report"
   ]
  },
  {
   "cell_type": "code",
   "execution_count": 18,
   "id": "fcbf3adc",
   "metadata": {
    "execution": {
     "iopub.execute_input": "2022-10-04T14:30:05.961802Z",
     "iopub.status.busy": "2022-10-04T14:30:05.960957Z",
     "iopub.status.idle": "2022-10-04T14:30:06.250735Z",
     "shell.execute_reply": "2022-10-04T14:30:06.248990Z"
    },
    "papermill": {
     "duration": 0.398346,
     "end_time": "2022-10-04T14:30:06.252724",
     "exception": false,
     "start_time": "2022-10-04T14:30:05.854378",
     "status": "completed"
    },
    "tags": []
   },
   "outputs": [
    {
     "name": "stdout",
     "output_type": "stream",
     "text": [
      "              precision    recall  f1-score   support\n",
      "\n",
      "           0       0.70      0.76      0.73        21\n",
      "           1       0.67      0.59      0.62        17\n",
      "\n",
      "    accuracy                           0.68        38\n",
      "   macro avg       0.68      0.68      0.68        38\n",
      "weighted avg       0.68      0.68      0.68        38\n",
      "\n"
     ]
    }
   ],
   "source": [
    "print(classification_report(np.argmax(ytest,axis=1),np.argmax(model.predict(xtest),axis=1)))"
   ]
  }
 ],
 "metadata": {
  "kernelspec": {
   "display_name": "Python 3",
   "language": "python",
   "name": "python3"
  },
  "language_info": {
   "codemirror_mode": {
    "name": "ipython",
    "version": 3
   },
   "file_extension": ".py",
   "mimetype": "text/x-python",
   "name": "python",
   "nbconvert_exporter": "python",
   "pygments_lexer": "ipython3",
   "version": "3.7.12"
  },
  "papermill": {
   "default_parameters": {},
   "duration": 189.331587,
   "end_time": "2022-10-04T14:30:09.211617",
   "environment_variables": {},
   "exception": null,
   "input_path": "__notebook__.ipynb",
   "output_path": "__notebook__.ipynb",
   "parameters": {},
   "start_time": "2022-10-04T14:26:59.880030",
   "version": "2.3.4"
  }
 },
 "nbformat": 4,
 "nbformat_minor": 5
}
